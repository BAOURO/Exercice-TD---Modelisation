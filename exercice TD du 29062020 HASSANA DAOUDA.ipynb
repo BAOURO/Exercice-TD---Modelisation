{
 "cells": [
  {
   "cell_type": "markdown",
   "metadata": {},
   "source": [
    "# EXERCICE : construirer une matrice A de taille (7x5) constituée de 4 blocs."
   ]
  },
  {
   "cell_type": "code",
   "execution_count": 10,
   "metadata": {},
   "outputs": [],
   "source": [
    "%display latex"
   ]
  },
  {
   "cell_type": "markdown",
   "metadata": {},
   "source": [
    "Nous commençons par construire quatres blocs ou sous-matrices relativement à ce que nous voulons comme résultat."
   ]
  },
  {
   "cell_type": "code",
   "execution_count": 11,
   "metadata": {},
   "outputs": [],
   "source": [
    "A1 = 5*matrix.ones(3,2)\n",
    "A2 = -2*matrix.ones(3,3)\n",
    "A3 = 3*matrix.ones(5,2)\n",
    "A4 = 4*matrix.ones(5,2)"
   ]
  },
  {
   "cell_type": "markdown",
   "metadata": {},
   "source": [
    "On a donc les sous-matrices nommées A1, A2, A3 et A4."
   ]
  },
  {
   "cell_type": "code",
   "execution_count": 12,
   "metadata": {},
   "outputs": [
    {
     "data": {
      "text/html": [
       "<html><script type=\"math/tex; mode=display\">\\newcommand{\\Bold}[1]{\\mathbf{#1}}\\left(\\begin{array}{rr}\n",
       "5 & 5 \\\\\n",
       "5 & 5 \\\\\n",
       "5 & 5\n",
       "\\end{array}\\right)</script></html>"
      ],
      "text/plain": [
       "[5 5]\n",
       "[5 5]\n",
       "[5 5]"
      ]
     },
     "execution_count": 12,
     "metadata": {},
     "output_type": "execute_result"
    }
   ],
   "source": [
    "A1"
   ]
  },
  {
   "cell_type": "code",
   "execution_count": 13,
   "metadata": {},
   "outputs": [
    {
     "data": {
      "text/html": [
       "<html><script type=\"math/tex; mode=display\">\\newcommand{\\Bold}[1]{\\mathbf{#1}}\\left(\\begin{array}{rrr}\n",
       "-2 & -2 & -2 \\\\\n",
       "-2 & -2 & -2 \\\\\n",
       "-2 & -2 & -2\n",
       "\\end{array}\\right)</script></html>"
      ],
      "text/plain": [
       "[-2 -2 -2]\n",
       "[-2 -2 -2]\n",
       "[-2 -2 -2]"
      ]
     },
     "execution_count": 13,
     "metadata": {},
     "output_type": "execute_result"
    }
   ],
   "source": [
    "A2"
   ]
  },
  {
   "cell_type": "code",
   "execution_count": 14,
   "metadata": {},
   "outputs": [
    {
     "data": {
      "text/html": [
       "<html><script type=\"math/tex; mode=display\">\\newcommand{\\Bold}[1]{\\mathbf{#1}}\\left(\\begin{array}{rr}\n",
       "3 & 3 \\\\\n",
       "3 & 3 \\\\\n",
       "3 & 3 \\\\\n",
       "3 & 3 \\\\\n",
       "3 & 3\n",
       "\\end{array}\\right)</script></html>"
      ],
      "text/plain": [
       "[3 3]\n",
       "[3 3]\n",
       "[3 3]\n",
       "[3 3]\n",
       "[3 3]"
      ]
     },
     "execution_count": 14,
     "metadata": {},
     "output_type": "execute_result"
    }
   ],
   "source": [
    "A3"
   ]
  },
  {
   "cell_type": "code",
   "execution_count": 15,
   "metadata": {},
   "outputs": [
    {
     "data": {
      "text/html": [
       "<html><script type=\"math/tex; mode=display\">\\newcommand{\\Bold}[1]{\\mathbf{#1}}\\left(\\begin{array}{rr}\n",
       "4 & 4 \\\\\n",
       "4 & 4 \\\\\n",
       "4 & 4 \\\\\n",
       "4 & 4 \\\\\n",
       "4 & 4\n",
       "\\end{array}\\right)</script></html>"
      ],
      "text/plain": [
       "[4 4]\n",
       "[4 4]\n",
       "[4 4]\n",
       "[4 4]\n",
       "[4 4]"
      ]
     },
     "execution_count": 15,
     "metadata": {},
     "output_type": "execute_result"
    }
   ],
   "source": [
    "A4"
   ]
  },
  {
   "cell_type": "markdown",
   "metadata": {},
   "source": [
    "En augmentant la sous-matrice A2 sur la sous-matrice A1. On obtient une matrice qu'on a appelé A5."
   ]
  },
  {
   "cell_type": "code",
   "execution_count": 16,
   "metadata": {},
   "outputs": [],
   "source": [
    "A5 = A1.augment(A2)"
   ]
  },
  {
   "cell_type": "code",
   "execution_count": 17,
   "metadata": {},
   "outputs": [
    {
     "data": {
      "text/html": [
       "<html><script type=\"math/tex; mode=display\">\\newcommand{\\Bold}[1]{\\mathbf{#1}}\\left(\\begin{array}{rrrrr}\n",
       "5 & 5 & -2 & -2 & -2 \\\\\n",
       "5 & 5 & -2 & -2 & -2 \\\\\n",
       "5 & 5 & -2 & -2 & -2\n",
       "\\end{array}\\right)</script></html>"
      ],
      "text/plain": [
       "[ 5  5 -2 -2 -2]\n",
       "[ 5  5 -2 -2 -2]\n",
       "[ 5  5 -2 -2 -2]"
      ]
     },
     "execution_count": 17,
     "metadata": {},
     "output_type": "execute_result"
    }
   ],
   "source": [
    "A5"
   ]
  },
  {
   "cell_type": "markdown",
   "metadata": {},
   "source": [
    "La transposé de cette matrice A5 notée A6 nous conduit à une forme proche de celle de la matrice A recherchée."
   ]
  },
  {
   "cell_type": "code",
   "execution_count": 18,
   "metadata": {},
   "outputs": [],
   "source": [
    "A6 = A5.transpose()"
   ]
  },
  {
   "cell_type": "code",
   "execution_count": 19,
   "metadata": {},
   "outputs": [
    {
     "data": {
      "text/html": [
       "<html><script type=\"math/tex; mode=display\">\\newcommand{\\Bold}[1]{\\mathbf{#1}}\\left(\\begin{array}{rrr}\n",
       "5 & 5 & 5 \\\\\n",
       "5 & 5 & 5 \\\\\n",
       "-2 & -2 & -2 \\\\\n",
       "-2 & -2 & -2 \\\\\n",
       "-2 & -2 & -2\n",
       "\\end{array}\\right)</script></html>"
      ],
      "text/plain": [
       "[ 5  5  5]\n",
       "[ 5  5  5]\n",
       "[-2 -2 -2]\n",
       "[-2 -2 -2]\n",
       "[-2 -2 -2]"
      ]
     },
     "execution_count": 19,
     "metadata": {},
     "output_type": "execute_result"
    }
   ],
   "source": [
    "A6"
   ]
  },
  {
   "cell_type": "markdown",
   "metadata": {},
   "source": [
    "Nous augmentons la sous-matrice A3 sur la matrice A6 et nous obtenons la matrice A7."
   ]
  },
  {
   "cell_type": "code",
   "execution_count": 20,
   "metadata": {},
   "outputs": [],
   "source": [
    "A7 = A6.augment(A3)"
   ]
  },
  {
   "cell_type": "code",
   "execution_count": 21,
   "metadata": {},
   "outputs": [
    {
     "data": {
      "text/html": [
       "<html><script type=\"math/tex; mode=display\">\\newcommand{\\Bold}[1]{\\mathbf{#1}}\\left(\\begin{array}{rrrrr}\n",
       "5 & 5 & 5 & 3 & 3 \\\\\n",
       "5 & 5 & 5 & 3 & 3 \\\\\n",
       "-2 & -2 & -2 & 3 & 3 \\\\\n",
       "-2 & -2 & -2 & 3 & 3 \\\\\n",
       "-2 & -2 & -2 & 3 & 3\n",
       "\\end{array}\\right)</script></html>"
      ],
      "text/plain": [
       "[ 5  5  5  3  3]\n",
       "[ 5  5  5  3  3]\n",
       "[-2 -2 -2  3  3]\n",
       "[-2 -2 -2  3  3]\n",
       "[-2 -2 -2  3  3]"
      ]
     },
     "execution_count": 21,
     "metadata": {},
     "output_type": "execute_result"
    }
   ],
   "source": [
    "A7"
   ]
  },
  {
   "cell_type": "markdown",
   "metadata": {},
   "source": [
    "La matrice A7 obtenue est transposée avant qu'on y augemente la sous-matrice A4."
   ]
  },
  {
   "cell_type": "code",
   "execution_count": 22,
   "metadata": {},
   "outputs": [],
   "source": [
    "A8 = A7.transpose()"
   ]
  },
  {
   "cell_type": "code",
   "execution_count": 23,
   "metadata": {},
   "outputs": [],
   "source": [
    "A9 = A8.augment(A4)"
   ]
  },
  {
   "cell_type": "code",
   "execution_count": 24,
   "metadata": {},
   "outputs": [
    {
     "data": {
      "text/html": [
       "<html><script type=\"math/tex; mode=display\">\\newcommand{\\Bold}[1]{\\mathbf{#1}}\\left(\\begin{array}{rrrrrrr}\n",
       "5 & 5 & -2 & -2 & -2 & 4 & 4 \\\\\n",
       "5 & 5 & -2 & -2 & -2 & 4 & 4 \\\\\n",
       "5 & 5 & -2 & -2 & -2 & 4 & 4 \\\\\n",
       "3 & 3 & 3 & 3 & 3 & 4 & 4 \\\\\n",
       "3 & 3 & 3 & 3 & 3 & 4 & 4\n",
       "\\end{array}\\right)</script></html>"
      ],
      "text/plain": [
       "[ 5  5 -2 -2 -2  4  4]\n",
       "[ 5  5 -2 -2 -2  4  4]\n",
       "[ 5  5 -2 -2 -2  4  4]\n",
       "[ 3  3  3  3  3  4  4]\n",
       "[ 3  3  3  3  3  4  4]"
      ]
     },
     "execution_count": 24,
     "metadata": {},
     "output_type": "execute_result"
    }
   ],
   "source": [
    "A9"
   ]
  },
  {
   "cell_type": "markdown",
   "metadata": {},
   "source": [
    "Nous obtenons donc notre matrice A recherchée qui est la transposée de la matrice A9."
   ]
  },
  {
   "cell_type": "code",
   "execution_count": 25,
   "metadata": {},
   "outputs": [],
   "source": [
    "A = A9.transpose()"
   ]
  },
  {
   "cell_type": "code",
   "execution_count": 26,
   "metadata": {},
   "outputs": [
    {
     "data": {
      "text/html": [
       "<html><script type=\"math/tex; mode=display\">\\newcommand{\\Bold}[1]{\\mathbf{#1}}\\left(\\begin{array}{rrrrr}\n",
       "5 & 5 & 5 & 3 & 3 \\\\\n",
       "5 & 5 & 5 & 3 & 3 \\\\\n",
       "-2 & -2 & -2 & 3 & 3 \\\\\n",
       "-2 & -2 & -2 & 3 & 3 \\\\\n",
       "-2 & -2 & -2 & 3 & 3 \\\\\n",
       "4 & 4 & 4 & 4 & 4 \\\\\n",
       "4 & 4 & 4 & 4 & 4\n",
       "\\end{array}\\right)</script></html>"
      ],
      "text/plain": [
       "[ 5  5  5  3  3]\n",
       "[ 5  5  5  3  3]\n",
       "[-2 -2 -2  3  3]\n",
       "[-2 -2 -2  3  3]\n",
       "[-2 -2 -2  3  3]\n",
       "[ 4  4  4  4  4]\n",
       "[ 4  4  4  4  4]"
      ]
     },
     "execution_count": 26,
     "metadata": {},
     "output_type": "execute_result"
    }
   ],
   "source": [
    "A"
   ]
  },
  {
   "cell_type": "code",
   "execution_count": null,
   "metadata": {},
   "outputs": [],
   "source": []
  }
 ],
 "metadata": {
  "kernelspec": {
   "display_name": "SageMath 8.8",
   "language": "sage",
   "name": "sagemath"
  },
  "language_info": {
   "codemirror_mode": {
    "name": "ipython",
    "version": 2
   },
   "file_extension": ".py",
   "mimetype": "text/x-python",
   "name": "python",
   "nbconvert_exporter": "python",
   "pygments_lexer": "ipython2",
   "version": "2.7.15"
  }
 },
 "nbformat": 4,
 "nbformat_minor": 2
}
